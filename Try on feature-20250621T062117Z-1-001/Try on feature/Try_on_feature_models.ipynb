!pip install git+https://github.com/sberbank-ai/Real-ESRGAN.git
!pip install torch torchvision
!wget -q https://raw.githubusercontent.com/ai-forever/Real-ESRGAN/main/inputs/lr_face.png -O original.png
!pip install -q huggingface_hub==0.10.1
import torch
from PIL import Image
from RealESRGAN import RealESRGAN

device = torch.device('cuda' if torch.cuda.is_available() else 'cpu')
print(f"Running on: {device}")
model = RealESRGAN(device, scale=4)
model.load_weights('weights/RealESRGAN_x4.pth', download=True)
from google.colab import files
uploaded = files.upload()
for filename in uploaded.keys():
    print(f'Uploaded file: {filename}')
image = Image.open(list(uploaded.keys())[0]).convert('RGB')
sr_image = model.predict(image)
output_filename = 'enhanced_' + list(uploaded.keys())[0]
sr_image.save(output_filename)
print(f"Enhanced image saved as '{output_filename}'")
from PIL import Image

def enhance_image_with_realesrgan(image_path, model):
    image = Image.open(image_path).convert('RGB')
    sr_image = model.predict(image)
    output_filename = 'enhanced_' + image_path.split('/')[-1]
    sr_image.save(output_filename)

    print(f"✅ Enhanced image saved as: {output_filename}")
    return output_filename

from google.colab import files
uploaded = files.upload()
uploaded_filename = list(uploaded.keys())[0]
output_file = enhance_image_with_realesrgan(uploaded_filename, model)
)))))))))))))))))))))))Quality Enchancer function(((((((((((((((((((((((((
  
from google.colab import drive
drive.mount('/content/drive')
import os
os.makedirs("/content/drive/MyDrive/Colab Notebooks/Try on feature/GitProjects", exist_ok=True)
%cd /content/drive/MyDrive/Colab Notebooks/Try on feature/GitProjects
!git clone https://github.com/xinntao/Real-ESRGAN.git

!pip install -r Real-ESRGAN/requirements.txt
!git clone https://github.com/shadow2496/VITON-HD
!pip install torchgeometry opencv-python

from google.colab import files
import os
print("Please upload user image (e.g., user_image.jpg)")
user_image = list(files.upload().keys())[0]
print("Please upload product image (e.g., product_image.jpg)")
product_image = list(files.upload().keys())[0]
from google.colab import drive
drive.mount("/content/drive")
os.makedirs("/content/drive/MyDrive/Colab Notebooks/Try on feature/user_input", exist_ok=True)
os.makedirs("/content/drive/MyDrive/Colab Notebooks/Try on feature/product_input", exist_ok=True)
os.makedirs("/content/drive/MyDrive/Colab Notebooks/Try on feature/output", exist_ok=True)
!mv "{user_image}" "/content/drive/MyDrive/Colab Notebooks/Try on feature/user_input/user_image.jpg"
!mv "{product_image}" "/content/drive/MyDrive/Colab Notebooks/Try on feature/product_input/product_image.jpg"
!pip install torchvision==0.11.3
!PYTHONPATH="/content/drive/MyDrive/Colab Notebooks/Try on feature/GitProjects/Real-ESRGAN" \
 python "/content/drive/MyDrive/Colab Notebooks/Try on feature/GitProjects/Real-ESRGAN/inference_realesrgan.py" \
 -i "/content/drive/MyDrive/Colab Notebooks/Try on feature/user_input/user_image.jpg" \
 -o "/content/drive/MyDrive/Colab Notebooks/Try on feature/user_input" \
 -n RealESRGAN_x4plus
from PIL import Image
import os
from torchvision.transforms.functional import rgb_to_grayscale

def is_low_quality(image_path, min_size=512):
    if not os.path.exists(image_path):
        raise FileNotFoundError(f"File {image_path} does not exist.")
    img = Image.open(image_path)
    return img.size[0] < min_size or img.size[1] < min_size

user_img_path = "/content/drive/MyDrive/Colab Notebooks/Try on feature/user_input/user_image.jpg"
if not os.path.exists(user_img_path):
    print("File does not exist.")
else:
    !python "/content/drive/MyDrive/Colab Notebooks/Try on feature/GitProjects/Real-ESRGAN/inference_realesrgan.py" -i {user_img_path} -o /content/drive/MyDrive/Colab Notebooks/Try on feature/user_input -n RealESRGAN_x4plus
    enhanced_path = os.path.join("/content/drive/MyDrive/Colab Notebooks/Try on feature/user_input", "user_image_out.jpg")
    if os.path.exists(enhanced_path):
        !mv {enhanced_path} /content/drive/MyDrive/Colab Notebooks/Try on feature/user_input/user_image.jpg
    else:
       print("else part")

